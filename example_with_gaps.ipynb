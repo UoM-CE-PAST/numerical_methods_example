{
 "cells": [
  {
   "cell_type": "markdown",
   "metadata": {},
   "source": [
    "# Numerical Methods Example"
   ]
  },
  {
   "cell_type": "markdown",
   "metadata": {},
   "source": [
    "## Problem Outline\n",
    "\n",
    "A classic example, known as the 1D advection equation.\n",
    "Advection is the transport of some chemical (or any quantity really) by a fluid with a given velocity.\n",
    "\n",
    "Our goal is to determine the concentration distribution over time.\n",
    "\n",
    "We introduce the following variables:\n",
    "- $t:$ time.\n",
    "- $x:$ this represents a position in space, e.g. in a column or pipe.\n",
    "In theory, we could consider more coordinates, but this adds complexity.\n",
    "- $c:$ this is the concentration of the chemical being 'carried' by the fluid.\n",
    "The concentration varies with space, $x$, and over time, $t$.\n",
    "In general, this could be any quantity, e.g. mass.\n",
    "- $\\nu:$ the velocity of the fluid.\n",
    "Can vary with time, $t$, and space, $x$.\n",
    "\n",
    "We will consider a pipe with a fixed length, $L$.\n",
    "\n",
    "To simplify the problem we make the following assumptions:\n",
    "\n",
    "- The velocity of the fluid is constant (i.e. it doesn't change over time, $t$, and is the same at all positions, $x$).\n",
    "- Diffusion of the chemical in the fluid is negligible.\n",
    "- Concentration is small enough to not affect the motion of the fluid.\n",
    "\n",
    "Based on the above we can derive the following hyperbolic partial differential equation (PDE):\n",
    "\n",
    "$$\n",
    "\\frac{\\partial c(x, t)}{\\partial t} + \\nu\\frac{\\partial c}{\\partial x}=0\n",
    "$$\n"
   ]
  },
  {
   "cell_type": "markdown",
   "metadata": {
    "vscode": {
     "languageId": "plaintext"
    }
   },
   "source": [
    "### Initial and boundary conditions\n",
    "\n",
    "The equation above only tells us how concentration evolves with time and space.\n",
    "To solve it, we need the following:\n",
    "- what the concentration is at the **start** (initial condition).\n",
    "- what the concentration at the **boundaries** of the space we are considering (boundary condition/s).\n",
    "\n",
    "We'll make the following assumptions\n",
    "- The pipe is devoid of chemical at the start, i.e. $c(x,t=0)=c_0=0$.\n",
    "This is our initial condition.\n",
    "- The pipe is open-ended, so the fluid will keep flowing out of the pipe.\n",
    "This is our first boundary condition.\n",
    "- The feed concentration is slowly increased up to a point, then maintained at a constant value. i.e. $$\\frac{\\mathrm{d}c_\\mathrm{in}}{\\mathrm{d} t} =\n",
    "\\begin{cases}\n",
    "    2, & \\text{if} t < 5 \\\\\n",
    "    0, & \\text{if} t \\geq 5\n",
    "\\end{cases}$$\n",
    "This is our second boundary condition."
   ]
  },
  {
   "cell_type": "markdown",
   "metadata": {},
   "source": [
    "## Numerical Solution\n",
    "Before starting, we must import the libraries we are going to be using:\n",
    "- NumPy: you'll see this in a lot of scientific programs. NumPy arrays work very similarly to MATLAB  matrices.\n",
    "- Scipy: a popular library that has ODE solvers for us to use out-of-the-box.\n",
    "- Matplotlib: this will allow us to visualise our data using plots and animations. It's designed to be very similar to matlab."
   ]
  },
  {
   "cell_type": "code",
   "execution_count": null,
   "metadata": {},
   "outputs": [],
   "source": [
    "# required\n",
    "import numpy as np\n",
    "from scipy.integrate import solve_ivp\n",
    "import matplotlib.pyplot as plt"
   ]
  },
  {
   "cell_type": "markdown",
   "metadata": {},
   "source": [
    "### 1. Problem statement\n",
    "First, store the inputs from the problem statement as variables."
   ]
  },
  {
   "cell_type": "code",
   "execution_count": null,
   "metadata": {},
   "outputs": [],
   "source": []
  },
  {
   "cell_type": "markdown",
   "metadata": {},
   "source": [
    "### 2. Model discretization"
   ]
  },
  {
   "cell_type": "markdown",
   "metadata": {},
   "source": [
    "#### 2.1. Initial condition discretization\n",
    "To start, discretize the initial condition.\n",
    "This is important since it controls what the solution is going to look like."
   ]
  },
  {
   "cell_type": "code",
   "execution_count": null,
   "metadata": {},
   "outputs": [],
   "source": []
  },
  {
   "cell_type": "markdown",
   "metadata": {},
   "source": [
    "#### 2.2. ODE discretization\n",
    "Next discretize our ODE system.\n",
    "SciPy has a particular format it wants the ODE system to be defined in that we must follow. It must return the slope $\\left(\\frac{\\mathrm{d} y}{\\mathrm{d} t}\\right)$ at each node in our discrete grid."
   ]
  },
  {
   "cell_type": "code",
   "execution_count": null,
   "metadata": {},
   "outputs": [],
   "source": [
    "def ode_system(\n",
    "    t,\n",
    "    y,  # you can also add extra arguments if needed\n",
    "):\n",
    "    pass  # replace this line with your implementation"
   ]
  },
  {
   "cell_type": "markdown",
   "metadata": {},
   "source": [
    "### 3. Solution and Visualisation"
   ]
  },
  {
   "cell_type": "markdown",
   "metadata": {},
   "source": [
    "#### 3.1. Solution\n",
    "You should now have everything in place to use the SciPy solver. You can find the documentation (also includes examples) [here](https://docs.scipy.org/doc/scipy/reference/generated/scipy.integrate.solve_ivp.html)."
   ]
  },
  {
   "cell_type": "code",
   "execution_count": null,
   "metadata": {},
   "outputs": [],
   "source": []
  },
  {
   "cell_type": "markdown",
   "metadata": {},
   "source": [
    "#### 3.2. Visualisation\n",
    "The computer has a solution to our problem, but its just an array of numbers. Use the plotting library to make sense of the numbers through visualising."
   ]
  },
  {
   "cell_type": "markdown",
   "metadata": {},
   "source": [
    "##### 3.2.1. Saturation time (concentration at pipe end)\n",
    "\n",
    "This is the time taken for the pipe to have the same concentration as the feed throughout the whole pipe (i.e., steady state).\n",
    "We can determine this by focusing on the end of the pipe ($x=L$).\n",
    "\n",
    "Use the plotting library we imported (`matplotlib.pyplot`) to plot the concentration (only at the end of the pipe) against time."
   ]
  },
  {
   "cell_type": "code",
   "execution_count": null,
   "metadata": {},
   "outputs": [],
   "source": []
  }
 ],
 "metadata": {
  "kernelspec": {
   "display_name": "numerical-methods-example",
   "language": "python",
   "name": "python3"
  },
  "language_info": {
   "codemirror_mode": {
    "name": "ipython",
    "version": 3
   },
   "file_extension": ".py",
   "mimetype": "text/x-python",
   "name": "python",
   "nbconvert_exporter": "python",
   "pygments_lexer": "ipython3",
   "version": "3.13.3"
  }
 },
 "nbformat": 4,
 "nbformat_minor": 2
}
