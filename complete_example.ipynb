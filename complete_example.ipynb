{
 "cells": [
  {
   "cell_type": "markdown",
   "metadata": {},
   "source": [
    "# Numerical Methods Example"
   ]
  },
  {
   "cell_type": "markdown",
   "metadata": {},
   "source": [
    "## Problem Outline\n",
    "\n",
    "A classic example, known as the 1D advection equation.\n",
    "Advection is the transport of some chemical (or any quantity really) by a fluid with a given velocity.\n",
    "\n",
    "Our goal is to determine the concentration distribution over time.\n",
    "\n",
    "We introduce the following variables:\n",
    "- $t:$ time.\n",
    "- $x:$ this represents a position in space, e.g. in a column or pipe.\n",
    "In theory, we could consider more coordinates, but this adds complexity.\n",
    "- $c:$ this is the concentration of the chemical being 'carried' by the fluid.\n",
    "The concentration varies with space, $x$, and over time, $t$.\n",
    "In general, this could be any quantity, e.g. mass.\n",
    "- $\\nu:$ the velocity of the fluid.\n",
    "Can vary with time, $t$, and space, $x$.\n",
    "\n",
    "We will consider a pipe with a fixed length, L.\n",
    "\n",
    "To simplify the problem we make the following assumptions:\n",
    "\n",
    "- The velocity of the fluid is constant (i.e. it doesn't change over time, $t$, and is the same at all positions, $x$).\n",
    "- Diffusion of the chemical in the fluid is negligible.\n",
    "- Concentration is small enough so that it doesn't affect the motion of the fluid.\n",
    "\n",
    "Based on the above we can derive the following hyperbolic partial differential equation (PDE):\n",
    "\n",
    "$$\n",
    "\\frac{\\mathrm{d}c(x, t)}{\\mathrm{d}t} + \\nu\\frac{\\mathrm{d}c}{\\mathrm{d}x}=0\n",
    "$$\n"
   ]
  },
  {
   "cell_type": "markdown",
   "metadata": {
    "vscode": {
     "languageId": "plaintext"
    }
   },
   "source": [
    "### Initial and boundary conditions\n",
    "\n",
    "The equation above only tells us how concentration evolves with time and space.\n",
    "To solve it, we need the following:\n",
    "- what the concentration is at the **start** (initial condition).\n",
    "- what the concentration at the **boundaries** of the space we are considering (boundary condition/s).\n",
    "\n",
    "We'll make the following assumptions\n",
    "- The pipe is devoid of chemical at the start, i.e. $c(x,t=0)=c_0=0$.\n",
    "This is our initial condition.\n",
    "- The pipe is constantly fed with a fixed concentration of material, $c_\\mathrm{in}$.\n",
    "This is our first boundary condition.\n",
    "- The pipe is open-ended, so the fluid will keep flowing out of the pipe."
   ]
  },
  {
   "cell_type": "markdown",
   "metadata": {},
   "source": [
    "## Solution"
   ]
  },
  {
   "cell_type": "markdown",
   "metadata": {},
   "source": [
    "Before rushing to code, let's think about how we are going to solve the problem.\n",
    "A graphical way to do this is using a flowchart of the algorithm we will implement.\n",
    "Our algorithm will just be an overview of the instructions we will give the computer.\n",
    "\n",
    "<div style=\"text-align: center; background-color: white; display: inline-block;\">\n",
    "    <img src=\"images/flowchart_TA_example.svg\" alt=\"Alt text\">\n",
    "</div>"
   ]
  },
  {
   "cell_type": "markdown",
   "metadata": {},
   "source": [
    "### Initialization"
   ]
  },
  {
   "cell_type": "markdown",
   "metadata": {},
   "source": [
    "First we must import the libraries we are going to be using:\n",
    "- NumPy: you'll see this in a lot of scientific programs. NumPy arrays work very similarly to MATLAB  matrices.\n",
    "- Scipy: a popular library that has ODE solvers for us to use out-of-the-box.\n",
    "- MatPlotLib: this will allow us to visualise our data using plots and animations. It's designed to be very similar to matlab."
   ]
  },
  {
   "cell_type": "code",
   "execution_count": 1,
   "metadata": {},
   "outputs": [],
   "source": [
    "import numpy as np\n",
    "from scipy.integrate import solve_ivp\n",
    "import matplotlib.pyplot as plt\n",
    "from matplotlib.animation import FuncAnimation"
   ]
  },
  {
   "cell_type": "markdown",
   "metadata": {},
   "source": [
    "We can then move on to defining our inputs"
   ]
  },
  {
   "cell_type": "code",
   "execution_count": 2,
   "metadata": {},
   "outputs": [],
   "source": [
    "# inputs:\n",
    "# initial condition\n",
    "initialConcentration = 0.0 # this represents the concentration everywhere, c(x, t=0)\n",
    "\n",
    "# operating conditions\n",
    "velocity = 2.0 # [m/s] - could be any units, as long as we are consistent!\n",
    "feedConcentration = 8.0 # [mol/m3] - also our boundary condition\n",
    "\n",
    "# Grid definition\n",
    "pipeStart = 0.0 # [m] - this is just a reference, could be any value\n",
    "pipeEnd = 30 # [m]\n",
    "gridSpacing = 0.1 # [m] - the distance between the finite difference points\n",
    "# ! what will happen if we increase the grid spacing?\n",
    "\n",
    "# time span\n",
    "timeSpan = (0, 40) # [s]"
   ]
  },
  {
   "cell_type": "markdown",
   "metadata": {},
   "source": [
    "we should use the grid definition to discretize our initial condition"
   ]
  },
  {
   "cell_type": "code",
   "execution_count": 3,
   "metadata": {},
   "outputs": [],
   "source": [
    "# discretize the domain - divide the pipe into discrete lengths\n",
    "lengthArray = np.arange(pipeStart, pipeEnd+gridSpacing, gridSpacing)\n",
    "\n",
    "# discretize the initial distribution of concentration in the pipe\n",
    "initialConcentrationDistribution = np.full_like(lengthArray, initialConcentration)"
   ]
  },
  {
   "cell_type": "markdown",
   "metadata": {},
   "source": [
    "we could also add a ghost cell to the start of the distribution.\n",
    "This will represent our boundary condition (feed concentration)."
   ]
  },
  {
   "cell_type": "markdown",
   "metadata": {},
   "source": [
    "### Numerical Solution"
   ]
  },
  {
   "cell_type": "markdown",
   "metadata": {},
   "source": [
    "First, we define our ode system.\n",
    "SciPy has a particular format it wants the ode system in that we must follow."
   ]
  },
  {
   "cell_type": "markdown",
   "metadata": {},
   "source": [
    "#### ODE system loop\n",
    "\n",
    "Our first attempt at defining our ODE system might look something like this"
   ]
  },
  {
   "cell_type": "code",
   "execution_count": 4,
   "metadata": {},
   "outputs": [],
   "source": [
    "def ODEsystem(t, y, velocity:float, lengthArray: np.ndarray,\n",
    "              feedConcentration:float):\n",
    "    # unpack the state\n",
    "    concentrationDistribution = y\n",
    "    \n",
    "    # determine the number of points in the pipe\n",
    "    numberOfPoints = lengthArray.size\n",
    "    \n",
    "    # initialize an array to store derivatives\n",
    "    dydt = np.zeros(numberOfPoints)\n",
    "    \n",
    "    # calculate the grid spacing\n",
    "    gridSpacing = lengthArray[1]-lengthArray[0]\n",
    "    \n",
    "    # determine the derivative at the boundary\n",
    "    dydt[0] = velocity * (\n",
    "        feedConcentration - concentrationDistribution[0]) / gridSpacing\n",
    "    \n",
    "    # determine the derivatives for the interior points\n",
    "    for i in range(1, numberOfPoints):\n",
    "        dydt[i] = velocity * (\n",
    "            concentrationDistribution[i-1] - concentrationDistribution[i]\n",
    "        ) / gridSpacing\n",
    "    \n",
    "    return dydt"
   ]
  },
  {
   "cell_type": "markdown",
   "metadata": {},
   "source": [
    "The problem with the above is that Python for loops are incredibly slow.\n",
    "\n",
    "Fortunately, NumPy helps us by providing vectorization."
   ]
  },
  {
   "cell_type": "markdown",
   "metadata": {},
   "source": [
    "#### Vectorized ODE system (efficient)\n",
    "\n",
    "'Vectorizing' is what numpy is designed for. Instead of performing calculations on each element of an array one by one using a for loop, we can calculate all at once using efficient *vectorized* algorithms.\n",
    "\n",
    "Here is what our ODE system might look like when vectorized"
   ]
  },
  {
   "cell_type": "code",
   "execution_count": 5,
   "metadata": {},
   "outputs": [],
   "source": [
    "def ODEsystem(t, y, velocity:float, lengthArray:np.ndarray,\n",
    "              feedConcentration:float):\n",
    "    # add ghost cells (boundary conditions) to current state\n",
    "    concentrationDistribution = np.insert(y, 0, feedConcentration)\n",
    "    \n",
    "    # determine number of points in the pipe\n",
    "    numberOfPoints = lengthArray.size\n",
    "    \n",
    "    # initialize an array to store derivatives\n",
    "    dydt = np.zeros(numberOfPoints)\n",
    "    \n",
    "    # calculate the grid spacing\n",
    "    gridSpacing = lengthArray[1] - lengthArray[0]\n",
    "    \n",
    "    # generate the derivatives using finite difference\n",
    "    dydt = velocity * (concentrationDistribution[:-1] - concentrationDistribution[1:]) / gridSpacing\n",
    "    \n",
    "    return dydt"
   ]
  },
  {
   "cell_type": "markdown",
   "metadata": {},
   "source": [
    "We now have everything in place to use the SciPy solver"
   ]
  },
  {
   "cell_type": "code",
   "execution_count": 6,
   "metadata": {},
   "outputs": [],
   "source": [
    "# solve the ode system\n",
    "solution = solve_ivp(ODEsystem, timeSpan, initialConcentrationDistribution,\n",
    "                     args=(velocity, lengthArray, feedConcentration),\n",
    "                     method='BDF')\n",
    "\n",
    "# extract solution\n",
    "timesArray = solution.t\n",
    "concentrationDistributions = solution.y"
   ]
  },
  {
   "cell_type": "markdown",
   "metadata": {},
   "source": [
    "## Visualisation\n",
    "\n",
    "The computer has a solution to our problem, but its just an array of numbers. Let's use our plotting library to visualise."
   ]
  },
  {
   "cell_type": "markdown",
   "metadata": {},
   "source": [
    "### Concentration Distribution Evolution\n",
    "\n",
    "We can animate the evolution of the concentration distribution over time."
   ]
  },
  {
   "cell_type": "code",
   "execution_count": null,
   "metadata": {},
   "outputs": [],
   "source": [
    "%matplotlib widget\n",
    "\n",
    "# plt.close('all')\n",
    "\n",
    "# set up the figure and axes with initial frame\n",
    "figure, axes = plt.subplots()\n",
    "line, = axes.plot(lengthArray, concentrationDistributions[:, 0], color='b')\n",
    "axes.set_xlim(pipeStart, pipeEnd)\n",
    "axes.set_ylim(np.min(concentrationDistributions), 1.1*np.max(concentrationDistributions))\n",
    "axes.set_xlabel('pipe Length, $x$ [m]')\n",
    "axes.set_ylabel('Concentration [mol m$^{-3}$]')\n",
    "axes.set_title(r'Concentration Distribution in pipe at t=0')\n",
    "\n",
    "# initialization function: plot the background of each frame\n",
    "def init():\n",
    "    line.set_ydata(np.ma.array(lengthArray, mask=True))\n",
    "    return line,\n",
    "\n",
    "# update function: this is called for each frame to update the plot\n",
    "def update(frame):\n",
    "    line.set_ydata(concentrationDistributions[:, frame])\n",
    "    axes.set_title(f'Concentration Distribution in pipe at t={timesArray[frame]:.2f}')\n",
    "    return line,\n",
    "\n",
    "# create the animation\n",
    "animation = FuncAnimation(figure, update, frames=len(timesArray),\n",
    "                          init_func=init, blit=True, repeat=False)\n",
    "\n",
    "# save the animation\n",
    "animation.save('images/distributionOverTime.gif')"
   ]
  },
  {
   "cell_type": "markdown",
   "metadata": {},
   "source": [
    "### Saturation time\n",
    "\n",
    "This is the time taken for the pipe to have the same concentration as the feed throughout (i.e., steady state).\n",
    "\n",
    "We can determine this using our numerical solution of course, but we can derive the analytical solution easily:\n",
    "$$\n",
    "t_\\mathrm{sat}=\\frac{L}{\\nu}\n",
    "$$\n",
    "\n",
    "which we can also compute"
   ]
  },
  {
   "cell_type": "code",
   "execution_count": 20,
   "metadata": {},
   "outputs": [],
   "source": [
    "# analytical solution\n",
    "saturationTime = (pipeEnd - pipeStart) / velocity\n",
    "\n",
    "# we can use this to generate a concentration profile for the pipe end\n",
    "# same timespan used as the numerical solution\n",
    "analyticalTimes = np.array([0,\n",
    "                            saturationTime-1e-10, saturationTime, # step change\n",
    "                            timeSpan[1]])\n",
    "analyticalConcentrationProfile = np.array([initialConcentration,\n",
    "                                           initialConcentration,\n",
    "                                           feedConcentration,\n",
    "                                           feedConcentration])"
   ]
  },
  {
   "cell_type": "markdown",
   "metadata": {},
   "source": [
    "We can visualise the saturation time by plotting the concentration at the end of the column against the time.\n",
    "We'll do this for both solutions, numerical and analytical, to compare"
   ]
  },
  {
   "cell_type": "code",
   "execution_count": null,
   "metadata": {},
   "outputs": [],
   "source": [
    "%matplotlib inline\n",
    "\n",
    "# set up the figure\n",
    "plt.figure()\n",
    "plt.xlabel('Time, $t$ [s]')\n",
    "plt.ylabel('Concentration at final element, $c$ [mol m$^{-3}$]')\n",
    "\n",
    "# plot solutions\n",
    "plt.plot(analyticalTimes, analyticalConcentrationProfile, label='analytical')\n",
    "plt.plot(timesArray, concentrationDistributions[-1,:], label='numerical')\n",
    "\n",
    "plt.legend()\n",
    "\n",
    "plt.show()"
   ]
  },
  {
   "cell_type": "markdown",
   "metadata": {},
   "source": [
    "what do you notice about the above solution? The numerical solution is smooth, even though the analytical one is sharp! Why do you think that is?"
   ]
  }
 ],
 "metadata": {
  "kernelspec": {
   "display_name": "base",
   "language": "python",
   "name": "python3"
  },
  "language_info": {
   "codemirror_mode": {
    "name": "ipython",
    "version": 3
   },
   "file_extension": ".py",
   "mimetype": "text/x-python",
   "name": "python",
   "nbconvert_exporter": "python",
   "pygments_lexer": "ipython3",
   "version": "3.10.13"
  }
 },
 "nbformat": 4,
 "nbformat_minor": 2
}
