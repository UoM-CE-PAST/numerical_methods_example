{
 "cells": [
  {
   "cell_type": "markdown",
   "metadata": {},
   "source": [
    "# Numerical Methods Example"
   ]
  },
  {
   "cell_type": "markdown",
   "metadata": {},
   "source": [
    "## Problem Outline\n",
    "\n",
    "A classic example, known as the 1D advection equation.\n",
    "Advection is the transport of some chemical (or any quantity really) by a fluid with a given velocity.\n",
    "\n",
    "Our goal is to determine the concentration distribution over time.\n",
    "\n",
    "We introduce the following variables:\n",
    "- $t:$ time.\n",
    "- $x:$ this represents a position in space, e.g. in a column or pipe.\n",
    "In theory, we could consider more coordinates, but this adds complexity.\n",
    "- $c:$ this is the concentration of the chemical being 'carried' by the fluid.\n",
    "The concentration varies with space, $x$, and over time, $t$.\n",
    "In general, this could be any quantity, e.g. mass.\n",
    "- $\\nu:$ the velocity of the fluid.\n",
    "Can vary with time, $t$, and space, $x$.\n",
    "\n",
    "We will consider a pipe with a fixed length, L.\n",
    "\n",
    "To simplify the problem we make the following assumptions:\n",
    "\n",
    "- The velocity of the fluid is constant (i.e. it doesn't change over time, $t$, and is the same at all positions, $x$).\n",
    "- Diffusion of the chemical in the fluid is negligible.\n",
    "- Concentration is small enough so that it doesn't affect the motion of the fluid.\n",
    "\n",
    "Based on the above we can derive the following hyperbolic partial differential equation (PDE):\n",
    "\n",
    "$$\n",
    "\\frac{\\partial c(x, t)}{\\partial t} + \\nu\\frac{\\partial c}{\\partial x}=0\n",
    "$$\n"
   ]
  },
  {
   "cell_type": "markdown",
   "metadata": {
    "vscode": {
     "languageId": "plaintext"
    }
   },
   "source": [
    "### Initial and boundary conditions\n",
    "\n",
    "The equation above only tells us how concentration evolves with time and space.\n",
    "To solve it, we need the following:\n",
    "- what the concentration is at the **start** (initial condition).\n",
    "- what the concentration at the **boundaries** of the space we are considering (boundary condition/s).\n",
    "\n",
    "We'll make the following assumptions\n",
    "- The pipe is devoid of chemical at the start, i.e. $c(x,t=0)=c_0=0$.\n",
    "This is our initial condition.\n",
    "- The pipe is constantly fed with a fixed concentration of material, $c_\\mathrm{in}$.\n",
    "This is our first boundary condition.\n",
    "- The pipe is open-ended, so the fluid will keep flowing out of the pipe."
   ]
  },
  {
   "cell_type": "markdown",
   "metadata": {},
   "source": [
    "## Solution"
   ]
  },
  {
   "cell_type": "markdown",
   "metadata": {},
   "source": [
    "Before rushing to write any code, let's think about how we are going to solve the problem.\n",
    "More often than not, this will save us time in the long run.\n",
    "A graphical way to do this is using a flowchart of the algorithm we will implement.\n",
    "Our algorithm will is just overview of the high-level instructions we will give the computer.\n",
    "\n",
    "<div style=\"text-align: center; background-color: white; display: inline-block;\">\n",
    "    <img src=\"images/flowchart_TA_example.svg\" alt=\"Advection semi-discrete ODE algorithm\">\n",
    "</div>"
   ]
  },
  {
   "cell_type": "markdown",
   "metadata": {},
   "source": [
    "### Initialization"
   ]
  },
  {
   "cell_type": "markdown",
   "metadata": {},
   "source": [
    "First we must import the libraries we are going to be using:\n",
    "- NumPy: you'll see this in a lot of scientific programs. NumPy arrays work very similarly to MATLAB  matrices.\n",
    "- Scipy: a popular library that has ODE solvers for us to use out-of-the-box.\n",
    "- MatPlotLib: this will allow us to visualise our data using plots and animations. It's designed to be very similar to matlab."
   ]
  },
  {
   "cell_type": "code",
   "execution_count": 1,
   "metadata": {},
   "outputs": [],
   "source": [
    "import numpy as np\n",
    "from scipy.integrate import solve_ivp\n",
    "import matplotlib.pyplot as plt\n",
    "from matplotlib.animation import FuncAnimation"
   ]
  },
  {
   "cell_type": "markdown",
   "metadata": {},
   "source": [
    "We can then move on to defining our inputs"
   ]
  },
  {
   "cell_type": "code",
   "execution_count": 2,
   "metadata": {},
   "outputs": [],
   "source": [
    "# inputs:\n",
    "# initial condition\n",
    "initialConcentration = 0.0 # this represents the concentration everywhere, c(x, t=0)\n",
    "\n",
    "# operating conditions\n",
    "velocity = 2.0 # [m/s] - could be any units, as long as we are consistent!\n",
    "feedConcentration = 8.0 # [mol/m3] - also our boundary condition\n",
    "\n",
    "# Grid definition\n",
    "pipeStart = 0.0 # [m] - this is just a reference, could be any value\n",
    "pipeEnd = 30 # [m]\n",
    "gridSpacing = 0.1 # [m] - the distance between the finite difference points\n",
    "# ! what will happen if we increase the grid spacing?\n",
    "\n",
    "# time span\n",
    "timeSpan = (0, 40) # [s]"
   ]
  },
  {
   "cell_type": "markdown",
   "metadata": {},
   "source": [
    "we should use the grid definition to discretize our initial condition"
   ]
  },
  {
   "cell_type": "code",
   "execution_count": 3,
   "metadata": {},
   "outputs": [],
   "source": [
    "# discretize the domain - divide the pipe into discrete lengths\n",
    "lengthArray = np.arange(pipeStart, pipeEnd+gridSpacing, gridSpacing)\n",
    "\n",
    "# discretize the initial distribution of concentration in the pipe\n",
    "initialConcentrationDistribution = np.full_like(lengthArray, initialConcentration)"
   ]
  },
  {
   "cell_type": "markdown",
   "metadata": {},
   "source": [
    "we could also add a ghost cell to the start of the distribution.\n",
    "This will represent our boundary condition (feed concentration)."
   ]
  },
  {
   "cell_type": "markdown",
   "metadata": {},
   "source": [
    "### Numerical Solution"
   ]
  },
  {
   "cell_type": "markdown",
   "metadata": {},
   "source": [
    "First, we define our ode system.\n",
    "SciPy has a particular format it wants the ode system in that we must follow."
   ]
  },
  {
   "cell_type": "markdown",
   "metadata": {},
   "source": [
    "#### ODE system loop\n",
    "\n",
    "Our first attempt at defining our ODE system might look something like this"
   ]
  },
  {
   "cell_type": "code",
   "execution_count": 4,
   "metadata": {},
   "outputs": [],
   "source": [
    "def ODEsystem(t, y, velocity:float, lengthArray: np.ndarray,\n",
    "              feedConcentration:float):\n",
    "    # unpack the state\n",
    "    concentrationDistribution = y\n",
    "    \n",
    "    # determine the number of points in the pipe\n",
    "    numberOfPoints = lengthArray.size\n",
    "    \n",
    "    # initialize an array to store derivatives\n",
    "    dydt = np.zeros(numberOfPoints)\n",
    "    \n",
    "    # calculate the grid spacing\n",
    "    gridSpacing = lengthArray[1]-lengthArray[0]\n",
    "    \n",
    "    # determine the derivative at the boundary\n",
    "    dydt[0] = velocity * (\n",
    "        feedConcentration - concentrationDistribution[0]) / gridSpacing\n",
    "    \n",
    "    # determine the derivatives for the interior points\n",
    "    for i in range(1, numberOfPoints):\n",
    "        dydt[i] = velocity * (\n",
    "            concentrationDistribution[i-1] - concentrationDistribution[i]\n",
    "        ) / gridSpacing\n",
    "    \n",
    "    return dydt"
   ]
  },
  {
   "cell_type": "markdown",
   "metadata": {},
   "source": [
    "The problem with the above is that Python for loops are incredibly slow.\n",
    "\n",
    "Fortunately, NumPy helps us by providing vectorization."
   ]
  },
  {
   "cell_type": "markdown",
   "metadata": {},
   "source": [
    "#### Vectorized ODE system (efficient)\n",
    "\n",
    "'Vectorizing' is what numpy is designed for. Instead of performing calculations on each element of an array one by one using a for loop, we can calculate all at once using efficient *vectorized* algorithms.\n",
    "\n",
    "Here is what our ODE system might look like when vectorized"
   ]
  },
  {
   "cell_type": "code",
   "execution_count": 5,
   "metadata": {},
   "outputs": [],
   "source": [
    "def ODEsystem(t, y, velocity:float, lengthArray:np.ndarray,\n",
    "              feedConcentration:float):\n",
    "    # add ghost cells (boundary conditions) to current state\n",
    "    concentrationDistribution = np.insert(y, 0, feedConcentration)\n",
    "    \n",
    "    # determine number of points in the pipe\n",
    "    numberOfPoints = lengthArray.size\n",
    "    \n",
    "    # initialize an array to store derivatives\n",
    "    dydt = np.zeros(numberOfPoints)\n",
    "    \n",
    "    # calculate the grid spacing\n",
    "    gridSpacing = lengthArray[1] - lengthArray[0]\n",
    "    \n",
    "    # generate the derivatives using finite difference\n",
    "    dydt = velocity * (concentrationDistribution[:-1] - concentrationDistribution[1:]) / gridSpacing\n",
    "    \n",
    "    return dydt"
   ]
  },
  {
   "cell_type": "markdown",
   "metadata": {},
   "source": [
    "We now have everything in place to use the SciPy solver"
   ]
  },
  {
   "cell_type": "code",
   "execution_count": 6,
   "metadata": {},
   "outputs": [],
   "source": [
    "# solve the ode system\n",
    "solution = solve_ivp(ODEsystem, timeSpan, initialConcentrationDistribution,\n",
    "                     args=(velocity, lengthArray, feedConcentration),\n",
    "                     method='BDF')\n",
    "\n",
    "# extract solution\n",
    "timesArray = solution.t\n",
    "concentrationDistributions = solution.y"
   ]
  },
  {
   "cell_type": "markdown",
   "metadata": {},
   "source": [
    "## Visualisation\n",
    "\n",
    "The computer has a solution to our problem, but its just an array of numbers. Let's use our plotting library to visualise."
   ]
  },
  {
   "cell_type": "markdown",
   "metadata": {},
   "source": [
    "### Concentration Distribution Evolution\n",
    "\n",
    "We can animate the evolution of the concentration distribution over time.\n",
    "Note that the animation will only work when run in a Jupyter environment (browser, Google colab, or vscode)."
   ]
  },
  {
   "cell_type": "code",
   "execution_count": 10,
   "metadata": {},
   "outputs": [
    {
     "data": {
      "application/vnd.jupyter.widget-view+json": {
       "model_id": "bd8052d0613f454dbe0c7e12d2e74cb4",
       "version_major": 2,
       "version_minor": 0
      },
      "image/png": "[encoded data removed]",
      "text/html": [
       "\n",
       "            <div style=\"display: inline-block;\">\n",
       "                <div class=\"jupyter-widgets widget-label\" style=\"text-align: center;\">\n",
       "                    Figure\n",
       "                </div>\n",
       "                <img src='data:image/png;base64,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' width=640.0/>\n",
       "            </div>\n",
       "        "
      ],
      "text/plain": [
       "Canvas(toolbar=Toolbar(toolitems=[('Home', 'Reset original view', 'home', 'home'), ('Back', 'Back to previous …"
      ]
     },
     "metadata": {},
     "output_type": "display_data"
    }
   ],
   "source": [
    "%matplotlib widget\n",
    "\n",
    "# set up the figure and axes with initial frame\n",
    "figure, axes = plt.subplots()\n",
    "line, = axes.plot(lengthArray, concentrationDistributions[:, 0], color='b')\n",
    "axes.set_xlim(pipeStart, pipeEnd)\n",
    "axes.set_ylim(np.min(concentrationDistributions), 1.1*np.max(concentrationDistributions))\n",
    "axes.set_xlabel('pipe Length, $x$ [m]')\n",
    "axes.set_ylabel('Concentration [mol m$^{-3}$]')\n",
    "axes.set_title(r'Concentration Distribution in pipe at t=0')\n",
    "\n",
    "# initialization function: plot the background of each frame\n",
    "def init():\n",
    "    line.set_ydata(np.ma.array(lengthArray, mask=True))\n",
    "    return line,\n",
    "\n",
    "# update function: this is called for each frame to update the plot\n",
    "def update(frame):\n",
    "    line.set_ydata(concentrationDistributions[:, frame])\n",
    "    axes.set_title(f'Concentration Distribution in pipe at t={timesArray[frame]:.2f}s')\n",
    "    return line,\n",
    "\n",
    "# create the animation\n",
    "animation = FuncAnimation(figure, update, frames=len(timesArray),\n",
    "                          init_func=init, blit=True, repeat=False)\n",
    "\n",
    "\n",
    "# save the animation\n",
    "animation.save('images/distributionOverTime.gif')"
   ]
  },
  {
   "cell_type": "markdown",
   "metadata": {},
   "source": [
    "### Saturation time\n",
    "\n",
    "This is the time taken for the pipe to have the same concentration as the feed throughout (i.e., steady state).\n",
    "\n",
    "We can determine this using our numerical solution of course, but we can derive the analytical solution easily:\n",
    "$$\n",
    "t_\\mathrm{sat}=\\frac{L}{\\nu}\n",
    "$$\n",
    "\n",
    "which we can also compute"
   ]
  },
  {
   "cell_type": "code",
   "execution_count": 8,
   "metadata": {},
   "outputs": [],
   "source": [
    "# analytical solution\n",
    "saturationTime = (pipeEnd - pipeStart) / velocity\n",
    "\n",
    "# we can use this to generate a concentration profile for the pipe end\n",
    "# same timespan used as the numerical solution\n",
    "analyticalTimes = np.array([0,\n",
    "                            saturationTime-1e-10, saturationTime, # step change\n",
    "                            timeSpan[1]])\n",
    "analyticalConcentrationProfile = np.array([initialConcentration,\n",
    "                                           initialConcentration,\n",
    "                                           feedConcentration,\n",
    "                                           feedConcentration])"
   ]
  },
  {
   "cell_type": "markdown",
   "metadata": {},
   "source": [
    "We can visualise the saturation time by plotting the concentration at the end of the column against the time.\n",
    "We'll do this for both solutions, numerical and analytical, to compare"
   ]
  },
  {
   "cell_type": "code",
   "execution_count": 12,
   "metadata": {},
   "outputs": [
    {
     "data": {
      "image/png": "[encoded data removed]",
      "text/plain": [
       "<Figure size 640x480 with 1 Axes>"
      ]
     },
     "metadata": {},
     "output_type": "display_data"
    }
   ],
   "source": [
    "%matplotlib inline\n",
    "\n",
    "# set up the figure\n",
    "plt.figure()\n",
    "plt.xlabel('Time, $t$ [s]')\n",
    "plt.ylabel('Concentration at final element, $c$ [mol m$^{-3}$]')\n",
    "\n",
    "# plot solutions\n",
    "plt.plot(analyticalTimes, analyticalConcentrationProfile, label='analytical')\n",
    "plt.plot(timesArray, concentrationDistributions[-1,:], label='numerical')\n",
    "\n",
    "plt.legend()\n",
    "\n",
    "plt.show()"
   ]
  },
  {
   "cell_type": "markdown",
   "metadata": {},
   "source": [
    "We notice that the numerical solution is smooth, even though the analytical one is sharp. Why do you think that is? Feel free to download the notebook and experiment."
   ]
  }
 ],
 "metadata": {
  "kernelspec": {
   "display_name": "base",
   "language": "python",
   "name": "python3"
  },
  "language_info": {
   "codemirror_mode": {
    "name": "ipython",
    "version": 3
   },
   "file_extension": ".py",
   "mimetype": "text/x-python",
   "name": "python",
   "nbconvert_exporter": "python",
   "pygments_lexer": "ipython3",
   "version": "3.11.10"
  }
 },
 "nbformat": 4,
 "nbformat_minor": 2
}
