{
 "cells": [
  {
   "cell_type": "markdown",
   "metadata": {},
   "source": [
    "# Numerical Methods Example"
   ]
  },
  {
   "cell_type": "markdown",
   "metadata": {},
   "source": [
    "## Problem Statement\n",
    "\n",
    "A classic example, known as the 1D advection equation.\n",
    "Advection is the transport of some chemical (or any quantity really) by a fluid with a given velocity.\n",
    "\n",
    "Our goal is to determine the concentration distribution over time.\n",
    "\n",
    "We introduce the following variables:\n",
    "- $t:$ time!\n",
    "- $x:$ this represents the position in space.\n",
    "In theory, we could consider more coordinates, but this adds complexity.\n",
    "- $c:$ this is the concentration of the chemical being 'carried' by the fluid.\n",
    "The concentration varies with space, $x$, and over time, $t$.\n",
    "In general, this could be any quantity, e.g. mass.\n",
    "- $\\nu:$ the velocity of the fluid.\n",
    "Can vary with time, $t$, and space, $x$.\n",
    "\n",
    "To simplify the problem we make the following assumptions:\n",
    "\n",
    "- The velocity of the fluid is constant (i.e. it doesn't change over time, $t$, and is the same at all positions, $x$).\n",
    "- Diffusion of the chemical in the fluid is negligible.\n",
    "\n",
    "Based on the above we can derive the following hyperbolic partial differential equation (PDE):\n",
    "\n",
    "$$\n",
    "\\frac{\\mathrm{d}c(x, t)}{\\mathrm{d}t} + \\nu\\frac{\\mathrm{d}c}{\\mathrm{d}x}=0\n",
    "$$\n"
   ]
  },
  {
   "cell_type": "markdown",
   "metadata": {
    "vscode": {
     "languageId": "plaintext"
    }
   },
   "source": [
    "### Initial and boundary conditions"
   ]
  }
 ],
 "metadata": {
  "kernelspec": {
   "display_name": "base",
   "language": "python",
   "name": "python3"
  },
  "language_info": {
   "name": "python",
   "version": "3.10.13"
  }
 },
 "nbformat": 4,
 "nbformat_minor": 2
}
