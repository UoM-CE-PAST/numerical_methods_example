{
 "cells": [
  {
   "cell_type": "markdown",
   "metadata": {},
   "source": [
    "# Numerical Methods Example"
   ]
  },
  {
   "cell_type": "markdown",
   "metadata": {},
   "source": [
    "## Problem Outline\n",
    "\n",
    "A classic example, known as the 1D advection equation.\n",
    "Advection is the transport of some chemical (or any quantity really) by a fluid with a given velocity.\n",
    "\n",
    "Our goal is to determine the concentration distribution over time.\n",
    "\n",
    "We introduce the following variables:\n",
    "- $t:$ time!\n",
    "- $x:$ this represents the position in space, e.g. in a pipe or column.\n",
    "In theory, we could consider more coordinates, but this adds complexity.\n",
    "- $c:$ this is the concentration of the chemical being 'carried' by the fluid.\n",
    "The concentration varies with space, $x$, and over time, $t$.\n",
    "In general, this could be any quantity, e.g. mass.\n",
    "- $\\nu:$ the velocity of the fluid.\n",
    "Can vary with time, $t$, and space, $x$.\n",
    "\n",
    "We will consider a pipe with a fixed length, L.\n",
    "\n",
    "To simplify the problem we make the following assumptions:\n",
    "\n",
    "- The velocity of the fluid is constant (i.e. it doesn't change over time, $t$, and is the same at all positions, $x$).\n",
    "- Diffusion of the chemical in the fluid is negligible.\n",
    "- Concentration is small enough so that it doesn't affect the motion of the fluid.\n",
    "\n",
    "Based on the above we can derive the following hyperbolic partial differential equation (PDE):\n",
    "\n",
    "$$\n",
    "\\frac{\\mathrm{d}c(x, t)}{\\mathrm{d}t} + \\nu\\frac{\\mathrm{d}c}{\\mathrm{d}x}=0\n",
    "$$\n"
   ]
  },
  {
   "cell_type": "markdown",
   "metadata": {
    "vscode": {
     "languageId": "plaintext"
    }
   },
   "source": [
    "### Initial and boundary conditions\n",
    "\n",
    "The equation above only tells us how concentration evolves with time and space.\n",
    "To solve it, we need the following:\n",
    "- what the concentration is at the start (initial condition).\n",
    "- what the concentration at the boundaries of the space we are considering (boundary condition/s).\n",
    "\n",
    "We'll make the following assumptions\n",
    "- The pipe is devoid of chemical at the start, i.e. $c(x,t=0)=0$.\n",
    "This is our initial condition.\n",
    "- The pipe is constantly fed with a fixed concentration of material, $c_B$.\n",
    "This is our first boundary condition.\n",
    "- The pipe opens up to the  "
   ]
  },
  {
   "cell_type": "markdown",
   "metadata": {},
   "source": [
    "## Solution"
   ]
  },
  {
   "cell_type": "markdown",
   "metadata": {},
   "source": [
    "Before rushing to code, let's think about how we are going to solve the problem.\n",
    "A graphical way to do this is using a flowchart of the algorithm we will implement.\n",
    "Our algorithm will just be an overview of the instructions we will give the computer.\n",
    "\n",
    "<div style=\"text-align: center; background-color: white; display: inline-block;\">\n",
    "    <img src=\"images/flowchart_TA_example.svg\" alt=\"Alt text\">\n",
    "</div>"
   ]
  },
  {
   "cell_type": "markdown",
   "metadata": {},
   "source": [
    "### Initialization"
   ]
  },
  {
   "cell_type": "markdown",
   "metadata": {},
   "source": [
    "First we must import the libraries we are going to be using:\n",
    "- NumPy: you'll see this in a lot of scientific programs. It's very similar in efficiency to matlab.\n",
    "- Scipy: a popular library that has ODE solvers for us to use out-of-the-box.\n",
    "- MatPlotLib: this will allow us to visualise our data using plots and animations. It's designed to be very similar to matlab."
   ]
  },
  {
   "cell_type": "code",
   "execution_count": 1,
   "metadata": {},
   "outputs": [],
   "source": [
    "import numpy as np\n",
    "from scipy.integrate import solve_ivp\n",
    "import matplotlib.pyplot as plt\n",
    "from matplotlib.animation import FuncAnimation"
   ]
  },
  {
   "cell_type": "markdown",
   "metadata": {},
   "source": [
    "We can then move on to defining our inputs"
   ]
  },
  {
   "cell_type": "code",
   "execution_count": 18,
   "metadata": {},
   "outputs": [],
   "source": [
    "# inputs:\n",
    "# initial condition\n",
    "initialConcentration = 0.0 # this represents the concentration everywhere, c(x, t=0)\n",
    "\n",
    "# operating conditions\n",
    "velocity = 2.0 # [m/s] - could be any units, as long as we are consistent!\n",
    "feedConcentration = 8.0 # [mol/m3] - also our boundary condition\n",
    "\n",
    "# Grid definition\n",
    "columnStart = 0.0 # [m] - this is just a reference, could be any value\n",
    "columnEnd = 30 # [m]\n",
    "gridSpacing = 0.01 # [m] - the distance between the finite difference points\n",
    "# ! what will happen if we increase the grid spacing?\n",
    "\n",
    "# time span\n",
    "timeSpan = (0, 40) # [s]"
   ]
  },
  {
   "cell_type": "markdown",
   "metadata": {},
   "source": [
    "we should use the grid definition to discretize our initial condition"
   ]
  },
  {
   "cell_type": "code",
   "execution_count": 3,
   "metadata": {},
   "outputs": [],
   "source": [
    "# discretize the domain - divide the column into discrete lengths\n",
    "lengthArray = np.arange(columnStart, columnEnd+gridSpacing, gridSpacing)\n",
    "\n",
    "# discretize the initial distribution of concentration in the column\n",
    "initialConcentrationDistribution = np.full_like(lengthArray, initialConcentration)"
   ]
  },
  {
   "cell_type": "markdown",
   "metadata": {},
   "source": [
    "we add a ghost cell to the start of the distribution.\n",
    "This will represent our boundary condition (feed concentration)."
   ]
  },
  {
   "cell_type": "markdown",
   "metadata": {},
   "source": [
    "### Numerical Solution"
   ]
  },
  {
   "cell_type": "markdown",
   "metadata": {},
   "source": [
    "First, we define our ode system.\n",
    "SciPy has a particular format it wants the ode system in that we must follow."
   ]
  },
  {
   "cell_type": "markdown",
   "metadata": {},
   "source": [
    "#### ODE system loop\n",
    "\n",
    "Our first attempt at defining our ODE system might look something like this"
   ]
  },
  {
   "cell_type": "code",
   "execution_count": 4,
   "metadata": {},
   "outputs": [],
   "source": [
    "def ODEsystem(t, y, velocity:float, lengthArray: np.ndarray,\n",
    "              feedConcentration:float):\n",
    "    # unpack the state\n",
    "    concentrationDistribution = y\n",
    "    \n",
    "    # determine the number of points in the column\n",
    "    numberOfPoints = lengthArray.size\n",
    "    \n",
    "    # initialize an array to store derivatives\n",
    "    dydt = np.zeros(numberOfPoints)\n",
    "    \n",
    "    # calculate the grid spacing\n",
    "    gridSpacing = lengthArray[1]-lengthArray[0]\n",
    "    \n",
    "    # determine the derivative at the boundary\n",
    "    dydt[0] = velocity * (\n",
    "        feedConcentration - concentrationDistribution[0]) / gridSpacing\n",
    "    \n",
    "    # determine the derivatives for the interior points\n",
    "    for i in range(1, numberOfPoints):\n",
    "        dydt[i] = velocity * (\n",
    "            concentrationDistribution[i-1] - concentrationDistribution[i]\n",
    "        ) / gridSpacing\n",
    "    \n",
    "    return dydt"
   ]
  },
  {
   "cell_type": "markdown",
   "metadata": {},
   "source": [
    "The problem with the above is that Python ODEs are incredibly slow.\n",
    "Fortunately, NumPy helps us by doing vectorization."
   ]
  },
  {
   "cell_type": "markdown",
   "metadata": {},
   "source": [
    "#### Vectorized ODE system (efficient)"
   ]
  },
  {
   "cell_type": "code",
   "execution_count": 6,
   "metadata": {},
   "outputs": [],
   "source": [
    "def ODEsystem(t, y, velocity:float, lengthArray:np.ndarray,\n",
    "              feedConcentration:float):\n",
    "    # add ghost cells (boundary conditions) to current state\n",
    "    concentrationDistribution = np.insert(y, 0, feedConcentration)\n",
    "    \n",
    "    # determine number of points in the column\n",
    "    numberOfPoints = lengthArray.size\n",
    "    \n",
    "    # initialize an array to store derivatives\n",
    "    dydt = np.zeros(numberOfPoints)\n",
    "    \n",
    "    # calculate the grid spacing\n",
    "    gridSpacing = lengthArray[1] - lengthArray[0]\n",
    "    \n",
    "    # generate the derivatives using finite difference\n",
    "    dydt = velocity * (concentrationDistribution[:-1] - concentrationDistribution[1:]) / gridSpacing\n",
    "    \n",
    "    return dydt"
   ]
  },
  {
   "cell_type": "markdown",
   "metadata": {},
   "source": [
    "We now have everything in place to use the SciPy solver"
   ]
  },
  {
   "cell_type": "code",
   "execution_count": 19,
   "metadata": {},
   "outputs": [],
   "source": [
    "# solve the ode system\n",
    "solution = solve_ivp(ODEsystem, timeSpan, initialConcentrationDistribution,\n",
    "                     args=(velocity, lengthArray, feedConcentration),\n",
    "                     method='BDF')\n",
    "\n",
    "# extract solution\n",
    "time = solution.t\n",
    "concentrationDistributions = solution.y"
   ]
  },
  {
   "cell_type": "markdown",
   "metadata": {},
   "source": [
    "## Analytical Solution\n",
    "\n",
    "For the simple problem we have considered, there exists an analytical solution we can compare with:\n",
    "$$x$$"
   ]
  },
  {
   "cell_type": "markdown",
   "metadata": {},
   "source": [
    "## Visualisation"
   ]
  },
  {
   "cell_type": "markdown",
   "metadata": {},
   "source": [
    "### Animation\n",
    "\n",
    "We can animate the evolution of the concentration distribution over time."
   ]
  },
  {
   "cell_type": "code",
   "execution_count": 20,
   "metadata": {},
   "outputs": [
    {
     "data": {
      "application/vnd.jupyter.widget-view+json": {
       "model_id": "401fbedef9144ff09a85f3ae205c5be6",
       "version_major": 2,
       "version_minor": 0
      },
      "image/png": "[encoded data removed]",
      "text/html": [
       "\n",
       "            <div style=\"display: inline-block;\">\n",
       "                <div class=\"jupyter-widgets widget-label\" style=\"text-align: center;\">\n",
       "                    Figure\n",
       "                </div>\n",
       "                <img src='data:image/png;base64,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' width=640.0/>\n",
       "            </div>\n",
       "        "
      ],
      "text/plain": [
       "Canvas(toolbar=Toolbar(toolitems=[('Home', 'Reset original view', 'home', 'home'), ('Back', 'Back to previous …"
      ]
     },
     "metadata": {},
     "output_type": "display_data"
    }
   ],
   "source": [
    "%matplotlib widget\n",
    "\n",
    "plt.close('all')\n",
    "\n",
    "# set up the figure and axes with initial frame\n",
    "figure, axes = plt.subplots()\n",
    "line, = axes.plot(lengthArray, concentrationDistributions[:, 0], color='b')\n",
    "axes.set_xlim(columnStart, columnEnd)\n",
    "axes.set_ylim(np.min(concentrationDistributions), 1.1*np.max(concentrationDistributions))\n",
    "axes.set_xlabel('Column Length [m]')\n",
    "axes.set_ylabel('Concentration [mol/m3]')\n",
    "axes.set_title('Concentration Distribution in Column at t=0')\n",
    "\n",
    "# initialization function: plot the background of each frame\n",
    "def init():\n",
    "    line.set_ydata(np.ma.array(lengthArray, mask=True))\n",
    "    return line,\n",
    "\n",
    "# update function: this is called for each frame to update the plot\n",
    "def update(frame):\n",
    "    line.set_ydata(concentrationDistributions[:, frame])\n",
    "    axes.set_title(f'Concentration Distribution in Column at t={time[frame]:.2f}')\n",
    "    return line,\n",
    "\n",
    "# create the animation\n",
    "animation = FuncAnimation(figure, update, frames=len(time),\n",
    "                          init_func=init, blit=True, repeat=False)"
   ]
  }
 ],
 "metadata": {
  "kernelspec": {
   "display_name": "base",
   "language": "python",
   "name": "python3"
  },
  "language_info": {
   "codemirror_mode": {
    "name": "ipython",
    "version": 3
   },
   "file_extension": ".py",
   "mimetype": "text/x-python",
   "name": "python",
   "nbconvert_exporter": "python",
   "pygments_lexer": "ipython3",
   "version": "3.10.13"
  }
 },
 "nbformat": 4,
 "nbformat_minor": 2
}
